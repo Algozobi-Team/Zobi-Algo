{
 "cells": [
  {
   "cell_type": "code",
   "execution_count": 2,
   "metadata": {},
   "outputs": [],
   "source": [
    "import speech_recognition as sr\n",
    "from gtts import gTTS\n",
    "import os\n",
    "import playsound"
   ]
  },
  {
   "cell_type": "code",
   "execution_count": 4,
   "metadata": {},
   "outputs": [],
   "source": [
    "def speak(text):\n",
    "    tts = gTTS(text=text, lang='en')\n",
    "    filename = 'voice2.mp3'\n",
    "    tts.save(filename)\n",
    "    playsound.playsound(filename)\n",
    "    os.remove(filename)\n",
    "speak(\"Hello, my name is Zobi\")"
   ]
  },
  {
   "cell_type": "code",
   "execution_count": 16,
   "metadata": {},
   "outputs": [
    {
     "name": "stdout",
     "output_type": "stream",
     "text": [
      "hello how are you\n"
     ]
    },
    {
     "data": {
      "text/plain": [
       "'hello how are you'"
      ]
     },
     "execution_count": 16,
     "metadata": {},
     "output_type": "execute_result"
    }
   ],
   "source": [
    "def get_audio():\n",
    "    r = sr.Recognizer()\n",
    "    with sr.Microphone() as source:\n",
    "        audio = r.listen(source)\n",
    "        said = \"\"\n",
    "\n",
    "        try:\n",
    "            said = r.recognize_google(audio)\n",
    "            print(said)\n",
    "        except Exception as e:\n",
    "            print(\"Exception: \" + str(e))\n",
    "\n",
    "    return said\n",
    "get_audio()\n"
   ]
  },
  {
   "cell_type": "code",
   "execution_count": 12,
   "metadata": {},
   "outputs": [
    {
     "name": "stdout",
     "output_type": "stream",
     "text": [
      "hello\n"
     ]
    }
   ],
   "source": [
    "#here is both text to speech and speech to text \n",
    "import os\n",
    "import time\n",
    "import playsound\n",
    "import speech_recognition as sr\n",
    "from gtts import gTTS\n",
    "\n",
    "\n",
    "def speak(text):\n",
    "    tts = gTTS(text=text, lang=\"en\")\n",
    "    filename = \"voice.mp3\"\n",
    "    tts.save(filename)\n",
    "    playsound.playsound(filename)\n",
    "    os.remove(filename)\n",
    "\n",
    "def get_audio():\n",
    "    r = sr.Recognizer()\n",
    "    with sr.Microphone() as source:\n",
    "        audio = r.listen(source)\n",
    "        said = \"\"\n",
    "\n",
    "        try:\n",
    "            said = r.recognize_google(audio)\n",
    "            print(said)\n",
    "        except Exception as e:\n",
    "            print(\"Exception: \" + str(e))\n",
    "\n",
    "    return said\n",
    "\n",
    "text = get_audio()\n",
    "\n",
    "if \"hello\" in text:\n",
    "    speak(\"hello, how are you?\")\n",
    "elif \"what is your name\" in text:\n",
    "    speak(\"My name is Zobi\")"
   ]
  },
  {
   "cell_type": "code",
   "execution_count": 1,
   "metadata": {},
   "outputs": [],
   "source": [
    "#import the model class and the tokenizer\n",
    "from transformers import BlenderbotTokenizer, BlenderbotForConditionalGeneration"
   ]
  },
  {
   "cell_type": "code",
   "execution_count": 3,
   "metadata": {},
   "outputs": [],
   "source": [
    "# Download and setup the model and tokenizer\n",
    "tokenizer = BlenderbotTokenizer.from_pretrained(\"facebook/blenderbot-400M-distill\")\n",
    "model = BlenderbotForConditionalGeneration.from_pretrained(\"facebook/blenderbot-400M-distill\")"
   ]
  },
  {
   "cell_type": "code",
   "execution_count": 10,
   "metadata": {},
   "outputs": [
    {
     "name": "stdout",
     "output_type": "stream",
     "text": [
      "I love programming what do you like\n"
     ]
    },
    {
     "data": {
      "text/plain": [
       "{'input_ids': tensor([[ 281,  913, 7831,  466,  361,  304,  398,    2]]), 'attention_mask': tensor([[1, 1, 1, 1, 1, 1, 1, 1]])}"
      ]
     },
     "execution_count": 10,
     "metadata": {},
     "output_type": "execute_result"
    }
   ],
   "source": [
    "r = sr.Recognizer()\n",
    "with sr.Microphone() as source:\n",
    "    audio = r.listen(source)\n",
    "    utterance = \"\"\n",
    "\n",
    "    try:\n",
    "        utterance = r.recognize_google(audio)\n",
    "        print(utterance)\n",
    "    except Exception as e:\n",
    "        print(\"Exception: \" + str(e)) \n",
    "\n",
    "# Tokenize the utterance \n",
    "inputs = tokenizer(utterance, return_tensors=\"pt\")\n",
    "inputs"
   ]
  },
  {
   "cell_type": "code",
   "execution_count": 11,
   "metadata": {},
   "outputs": [
    {
     "data": {
      "text/plain": [
       "tensor([[   1,  281,  398, 7831,  371,  731,   19,  373,  281,  476,  368,  712,\n",
       "          584,  403,  312,   21,  281,  476,  500,  306,  265, 2707,  276,  546,\n",
       "          265, 2256,  936,   21,    2]])"
      ]
     },
     "execution_count": 11,
     "metadata": {},
     "output_type": "execute_result"
    }
   ],
   "source": [
    "# Passing throuth the utterances to Blenderbot model\n",
    "res = model.generate(**inputs)\n",
    "res"
   ]
  },
  {
   "cell_type": "code",
   "execution_count": 12,
   "metadata": {},
   "outputs": [
    {
     "data": {
      "text/plain": [
       "\"<s> I like programming as well, but I'm not very good at it. I'm more of a writer than a programmer.</s>\""
      ]
     },
     "execution_count": 12,
     "metadata": {},
     "output_type": "execute_result"
    }
   ],
   "source": [
    "#Decoding the model output\n",
    "respond = tokenizer.decode(res[0])\n",
    "respond\n"
   ]
  },
  {
   "cell_type": "code",
   "execution_count": null,
   "metadata": {},
   "outputs": [],
   "source": [
    "import speech_recognition as sr\n",
    "from gtts import gTTS\n",
    "import os\n",
    "import time\n",
    "import playsound\n",
    "\n",
    "#import the model class and the tokenizer\n",
    "from transformers import BlenderbotTokenizer, BlenderbotForConditionalGeneration\n",
    "\n",
    "# Download and setup the model and tokenizer\n",
    "tokenizer = BlenderbotTokenizer.from_pretrained(\"facebook/blenderbot-400M-distill\")\n",
    "model = BlenderbotForConditionalGeneration.from_pretrained(\"facebook/blenderbot-400M-distill\")\n",
    "playsound.playsound(\"Welcome.mp3\")\n",
    "while True:\n",
    "    r = sr.Recognizer()\n",
    "    with sr.Microphone() as source:\n",
    "        audio = r.listen(source)\n",
    "        utterance = \"\"\n",
    "\n",
    "        try:\n",
    "            utterance = r.recognize_google(audio)\n",
    "            print(utterance)\n",
    "        except Exception as e:\n",
    "            print(\"Exception: \" + str(e)[3:])\n",
    "    if \"goodbye\" in utterance:\n",
    "        break\n",
    "    else:\n",
    "        # Tokenize the utterance \n",
    "        inputs = tokenizer(utterance, return_tensors=\"pt\")\n",
    "\n",
    "        # Passing throuth the utterances to Blenderbot model\n",
    "        res = model.generate(**inputs)\n",
    "\n",
    "        #Decoding the model output\n",
    "        respond = tokenizer.decode(res[0])[3:-4]\n",
    "        print(respond)\n",
    "        #sending respond to gTTS\n",
    "        tts = gTTS(respond, lang='en') \n",
    "        filename = 'voice1.mp3'\n",
    "        tts.save(filename)\n",
    "        playsound.playsound(filename)\n",
    "        os.remove(filename)"
   ]
  }
 ],
 "metadata": {
  "interpreter": {
   "hash": "86f51f5068d03dbb4133dd66edfc66011fb99b9723b426c415965edad3670b20"
  },
  "kernelspec": {
   "display_name": "Python 3.8.8 64-bit ('bot': conda)",
   "language": "python",
   "name": "python3"
  },
  "language_info": {
   "codemirror_mode": {
    "name": "ipython",
    "version": 3
   },
   "file_extension": ".py",
   "mimetype": "text/x-python",
   "name": "python",
   "nbconvert_exporter": "python",
   "pygments_lexer": "ipython3",
   "version": "3.8.8"
  },
  "orig_nbformat": 4
 },
 "nbformat": 4,
 "nbformat_minor": 2
}
